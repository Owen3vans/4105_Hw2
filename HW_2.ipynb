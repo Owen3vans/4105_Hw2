{
 "cells": [
  {
   "cell_type": "markdown",
   "id": "a853ac0f",
   "metadata": {},
   "source": [
    "<h1 style=\"font-size:3rem;color:black;\"> 4105 Hw 2 </h1>"
   ]
  },
  {
   "cell_type": "markdown",
   "id": "9408c219",
   "metadata": {},
   "source": [
    "## Problem 1"
   ]
  },
  {
   "cell_type": "code",
   "execution_count": 11,
   "id": "69d5e31d",
   "metadata": {},
   "outputs": [],
   "source": [
    "import numpy as np\n",
    "import pandas as pd\n",
    "import nbconvert\n",
    "import seaborn as sns\n",
    "import matplotlib.pyplot as plt\n",
    "from matplotlib.colors import ListedColormap\n",
    "from sklearn.model_selection import KFold\n",
    "from sklearn.model_selection import cross_val_score\n",
    "from sklearn.model_selection import train_test_split\n",
    "from sklearn.linear_model import LogisticRegression\n",
    "from sklearn import datasets\n",
    "from sklearn.metrics import confusion_matrix\n",
    "from sklearn.metrics import classification_report\n",
    "from sklearn import preprocessing\n",
    "import warnings\n",
    "warnings.filterwarnings('ignore')"
   ]
  },
  {
   "cell_type": "code",
   "execution_count": 12,
   "id": "47505082",
   "metadata": {},
   "outputs": [
    {
     "data": {
      "text/html": [
       "<div>\n",
       "<style scoped>\n",
       "    .dataframe tbody tr th:only-of-type {\n",
       "        vertical-align: middle;\n",
       "    }\n",
       "\n",
       "    .dataframe tbody tr th {\n",
       "        vertical-align: top;\n",
       "    }\n",
       "\n",
       "    .dataframe thead th {\n",
       "        text-align: right;\n",
       "    }\n",
       "</style>\n",
       "<table border=\"1\" class=\"dataframe\">\n",
       "  <thead>\n",
       "    <tr style=\"text-align: right;\">\n",
       "      <th></th>\n",
       "      <th>Pregnancies</th>\n",
       "      <th>Glucose</th>\n",
       "      <th>BloodPressure</th>\n",
       "      <th>SkinThickness</th>\n",
       "      <th>Insulin</th>\n",
       "      <th>BMI</th>\n",
       "      <th>DiabetesPedigreeFunction</th>\n",
       "      <th>Age</th>\n",
       "      <th>Outcome</th>\n",
       "    </tr>\n",
       "  </thead>\n",
       "  <tbody>\n",
       "    <tr>\n",
       "      <th>0</th>\n",
       "      <td>6</td>\n",
       "      <td>148</td>\n",
       "      <td>72</td>\n",
       "      <td>35</td>\n",
       "      <td>0</td>\n",
       "      <td>33.6</td>\n",
       "      <td>0.627</td>\n",
       "      <td>50</td>\n",
       "      <td>1</td>\n",
       "    </tr>\n",
       "    <tr>\n",
       "      <th>1</th>\n",
       "      <td>1</td>\n",
       "      <td>85</td>\n",
       "      <td>66</td>\n",
       "      <td>29</td>\n",
       "      <td>0</td>\n",
       "      <td>26.6</td>\n",
       "      <td>0.351</td>\n",
       "      <td>31</td>\n",
       "      <td>0</td>\n",
       "    </tr>\n",
       "    <tr>\n",
       "      <th>2</th>\n",
       "      <td>8</td>\n",
       "      <td>183</td>\n",
       "      <td>64</td>\n",
       "      <td>0</td>\n",
       "      <td>0</td>\n",
       "      <td>23.3</td>\n",
       "      <td>0.672</td>\n",
       "      <td>32</td>\n",
       "      <td>1</td>\n",
       "    </tr>\n",
       "    <tr>\n",
       "      <th>3</th>\n",
       "      <td>1</td>\n",
       "      <td>89</td>\n",
       "      <td>66</td>\n",
       "      <td>23</td>\n",
       "      <td>94</td>\n",
       "      <td>28.1</td>\n",
       "      <td>0.167</td>\n",
       "      <td>21</td>\n",
       "      <td>0</td>\n",
       "    </tr>\n",
       "    <tr>\n",
       "      <th>4</th>\n",
       "      <td>0</td>\n",
       "      <td>137</td>\n",
       "      <td>40</td>\n",
       "      <td>35</td>\n",
       "      <td>168</td>\n",
       "      <td>43.1</td>\n",
       "      <td>2.288</td>\n",
       "      <td>33</td>\n",
       "      <td>1</td>\n",
       "    </tr>\n",
       "  </tbody>\n",
       "</table>\n",
       "</div>"
      ],
      "text/plain": [
       "   Pregnancies  Glucose  BloodPressure  SkinThickness  Insulin   BMI  \\\n",
       "0            6      148             72             35        0  33.6   \n",
       "1            1       85             66             29        0  26.6   \n",
       "2            8      183             64              0        0  23.3   \n",
       "3            1       89             66             23       94  28.1   \n",
       "4            0      137             40             35      168  43.1   \n",
       "\n",
       "   DiabetesPedigreeFunction  Age  Outcome  \n",
       "0                     0.627   50        1  \n",
       "1                     0.351   31        0  \n",
       "2                     0.672   32        1  \n",
       "3                     0.167   21        0  \n",
       "4                     2.288   33        1  "
      ]
     },
     "execution_count": 12,
     "metadata": {},
     "output_type": "execute_result"
    }
   ],
   "source": [
    "#data set\n",
    "data = pd.read_csv ('https://raw.githubusercontent.com/Owen3vans/4105_Hw2/main/diabetes.csv')\n",
    "data.head()"
   ]
  },
  {
   "cell_type": "code",
   "execution_count": 13,
   "id": "b2cd5c08",
   "metadata": {},
   "outputs": [
    {
     "data": {
      "text/html": [
       "<div>\n",
       "<style scoped>\n",
       "    .dataframe tbody tr th:only-of-type {\n",
       "        vertical-align: middle;\n",
       "    }\n",
       "\n",
       "    .dataframe tbody tr th {\n",
       "        vertical-align: top;\n",
       "    }\n",
       "\n",
       "    .dataframe thead th {\n",
       "        text-align: right;\n",
       "    }\n",
       "</style>\n",
       "<table border=\"1\" class=\"dataframe\">\n",
       "  <thead>\n",
       "    <tr style=\"text-align: right;\">\n",
       "      <th></th>\n",
       "      <th>Pregnancies</th>\n",
       "      <th>Glucose</th>\n",
       "      <th>BloodPressure</th>\n",
       "      <th>SkinThickness</th>\n",
       "      <th>Insulin</th>\n",
       "      <th>BMI</th>\n",
       "      <th>DiabetesPedigreeFunction</th>\n",
       "      <th>Age</th>\n",
       "    </tr>\n",
       "  </thead>\n",
       "  <tbody>\n",
       "    <tr>\n",
       "      <th>0</th>\n",
       "      <td>6</td>\n",
       "      <td>148</td>\n",
       "      <td>72</td>\n",
       "      <td>35</td>\n",
       "      <td>0</td>\n",
       "      <td>33.6</td>\n",
       "      <td>0.627</td>\n",
       "      <td>50</td>\n",
       "    </tr>\n",
       "    <tr>\n",
       "      <th>1</th>\n",
       "      <td>1</td>\n",
       "      <td>85</td>\n",
       "      <td>66</td>\n",
       "      <td>29</td>\n",
       "      <td>0</td>\n",
       "      <td>26.6</td>\n",
       "      <td>0.351</td>\n",
       "      <td>31</td>\n",
       "    </tr>\n",
       "    <tr>\n",
       "      <th>2</th>\n",
       "      <td>8</td>\n",
       "      <td>183</td>\n",
       "      <td>64</td>\n",
       "      <td>0</td>\n",
       "      <td>0</td>\n",
       "      <td>23.3</td>\n",
       "      <td>0.672</td>\n",
       "      <td>32</td>\n",
       "    </tr>\n",
       "    <tr>\n",
       "      <th>3</th>\n",
       "      <td>1</td>\n",
       "      <td>89</td>\n",
       "      <td>66</td>\n",
       "      <td>23</td>\n",
       "      <td>94</td>\n",
       "      <td>28.1</td>\n",
       "      <td>0.167</td>\n",
       "      <td>21</td>\n",
       "    </tr>\n",
       "    <tr>\n",
       "      <th>4</th>\n",
       "      <td>0</td>\n",
       "      <td>137</td>\n",
       "      <td>40</td>\n",
       "      <td>35</td>\n",
       "      <td>168</td>\n",
       "      <td>43.1</td>\n",
       "      <td>2.288</td>\n",
       "      <td>33</td>\n",
       "    </tr>\n",
       "  </tbody>\n",
       "</table>\n",
       "</div>"
      ],
      "text/plain": [
       "   Pregnancies  Glucose  BloodPressure  SkinThickness  Insulin   BMI  \\\n",
       "0            6      148             72             35        0  33.6   \n",
       "1            1       85             66             29        0  26.6   \n",
       "2            8      183             64              0        0  23.3   \n",
       "3            1       89             66             23       94  28.1   \n",
       "4            0      137             40             35      168  43.1   \n",
       "\n",
       "   DiabetesPedigreeFunction  Age  \n",
       "0                     0.627   50  \n",
       "1                     0.351   31  \n",
       "2                     0.672   32  \n",
       "3                     0.167   21  \n",
       "4                     2.288   33  "
      ]
     },
     "execution_count": 13,
     "metadata": {},
     "output_type": "execute_result"
    }
   ],
   "source": [
    "x = data[['Pregnancies','Glucose','BloodPressure','SkinThickness','Insulin','BMI','DiabetesPedigreeFunction','Age']]\n",
    "x.head()"
   ]
  },
  {
   "cell_type": "code",
   "execution_count": 14,
   "id": "3bd2369b",
   "metadata": {},
   "outputs": [
    {
     "data": {
      "text/html": [
       "<div>\n",
       "<style scoped>\n",
       "    .dataframe tbody tr th:only-of-type {\n",
       "        vertical-align: middle;\n",
       "    }\n",
       "\n",
       "    .dataframe tbody tr th {\n",
       "        vertical-align: top;\n",
       "    }\n",
       "\n",
       "    .dataframe thead th {\n",
       "        text-align: right;\n",
       "    }\n",
       "</style>\n",
       "<table border=\"1\" class=\"dataframe\">\n",
       "  <thead>\n",
       "    <tr style=\"text-align: right;\">\n",
       "      <th></th>\n",
       "      <th>Outcome</th>\n",
       "    </tr>\n",
       "  </thead>\n",
       "  <tbody>\n",
       "    <tr>\n",
       "      <th>0</th>\n",
       "      <td>1</td>\n",
       "    </tr>\n",
       "    <tr>\n",
       "      <th>1</th>\n",
       "      <td>0</td>\n",
       "    </tr>\n",
       "    <tr>\n",
       "      <th>2</th>\n",
       "      <td>1</td>\n",
       "    </tr>\n",
       "    <tr>\n",
       "      <th>3</th>\n",
       "      <td>0</td>\n",
       "    </tr>\n",
       "    <tr>\n",
       "      <th>4</th>\n",
       "      <td>1</td>\n",
       "    </tr>\n",
       "  </tbody>\n",
       "</table>\n",
       "</div>"
      ],
      "text/plain": [
       "   Outcome\n",
       "0        1\n",
       "1        0\n",
       "2        1\n",
       "3        0\n",
       "4        1"
      ]
     },
     "execution_count": 14,
     "metadata": {},
     "output_type": "execute_result"
    }
   ],
   "source": [
    "y = data[['Outcome']]\n",
    "y.head()"
   ]
  },
  {
   "cell_type": "code",
   "execution_count": 15,
   "id": "f184af25",
   "metadata": {},
   "outputs": [],
   "source": [
    "xtrain, xtest, ytrain, ytest = train_test_split(x,y, test_size = 0.2)"
   ]
  },
  {
   "cell_type": "code",
   "execution_count": 16,
   "id": "f47dddb1",
   "metadata": {},
   "outputs": [
    {
     "data": {
      "text/plain": [
       "(614, 8)"
      ]
     },
     "execution_count": 16,
     "metadata": {},
     "output_type": "execute_result"
    }
   ],
   "source": [
    "xtrain.shape"
   ]
  },
  {
   "cell_type": "code",
   "execution_count": 17,
   "id": "5c402e43",
   "metadata": {},
   "outputs": [
    {
     "data": {
      "text/plain": [
       "(154, 8)"
      ]
     },
     "execution_count": 17,
     "metadata": {},
     "output_type": "execute_result"
    }
   ],
   "source": [
    "xtest.shape"
   ]
  },
  {
   "cell_type": "code",
   "execution_count": 18,
   "id": "e4a28bab",
   "metadata": {},
   "outputs": [
    {
     "data": {
      "text/plain": [
       "array([[-0.26225584, -1.024004  , -0.59688387, ..., -0.94853675,\n",
       "        -0.61913663, -0.95742393],\n",
       "       [ 0.93052258, -0.48624219, -3.65533398, ..., -4.1191127 ,\n",
       "        -0.50807996, -0.79001447],\n",
       "       [ 2.12330101,  0.46274924, -3.65533398, ...,  2.56722288,\n",
       "         0.2897745 ,  0.54926114],\n",
       "       ...,\n",
       "       [ 0.63232798, -1.27706839,  0.5632179 , ...,  0.96915032,\n",
       "        -0.88216557, -0.45519557],\n",
       "       [-0.85864505, -0.2964439 ,  1.30146448, ...,  0.07422969,\n",
       "        -0.62498171,  0.96778477],\n",
       "       [ 0.93052258,  0.68418058, -0.49142007, ..., -0.43715353,\n",
       "         0.60833178,  2.30706039]])"
      ]
     },
     "execution_count": 18,
     "metadata": {},
     "output_type": "execute_result"
    }
   ],
   "source": [
    "from sklearn.preprocessing import MinMaxScaler, StandardScaler\n",
    "scaler = StandardScaler()\n",
    "xtrain = scaler.fit_transform(xtrain)\n",
    "xtest = scaler.transform(xtest)\n",
    "xtrain"
   ]
  },
  {
   "cell_type": "code",
   "execution_count": 19,
   "id": "4b43a40e",
   "metadata": {},
   "outputs": [
    {
     "name": "stdout",
     "output_type": "stream",
     "text": [
      "C: 10\n",
      "Training accuracy: 0.7719869706840391\n",
      "Test accuracy: 0.7857142857142857\n",
      "\n",
      "C: 1\n",
      "Training accuracy: 0.7752442996742671\n",
      "Test accuracy: 0.7857142857142857\n",
      "\n",
      "C: 0.1\n",
      "Training accuracy: 0.7736156351791531\n",
      "Test accuracy: 0.7922077922077922\n",
      "\n",
      "C: 0.01\n",
      "Training accuracy: 0.7687296416938111\n",
      "Test accuracy: 0.7857142857142857\n",
      "\n",
      "C: 0.001\n",
      "Training accuracy: 0.742671009771987\n",
      "Test accuracy: 0.7662337662337663\n",
      "\n"
     ]
    }
   ],
   "source": [
    "C=[10,1,.1,.01,.001]\n",
    "for c in C:\n",
    "    clf = LogisticRegression(C=c, solver ='liblinear')\n",
    "    clf.fit(xtrain, ytrain)\n",
    "    print('C:',c)\n",
    "    print('Training accuracy:', clf.score(xtrain,ytrain))\n",
    "    print('Test accuracy:' , clf.score(xtest,ytest))\n",
    "    print('')\n"
   ]
  },
  {
   "cell_type": "code",
   "execution_count": 20,
   "id": "cd2cc5e1",
   "metadata": {},
   "outputs": [
    {
     "name": "stdout",
     "output_type": "stream",
     "text": [
      "[[96 11]\n",
      " [28 19]]\n"
     ]
    }
   ],
   "source": [
    "\n",
    "seed = 0\n",
    "xtrain, xtest, ytrain, ytest = train_test_split(x,y, test_size = 0.2, random_state=seed)\n",
    "model = LogisticRegression(C=c,solver='liblinear')\n",
    "model.fit(xtrain,ytrain)\n",
    "predict=model.predict(xtest)\n",
    "matrix= confusion_matrix(ytest,predict)\n",
    "print(matrix)"
   ]
  },
  {
   "cell_type": "code",
   "execution_count": 21,
   "id": "bec34ef4",
   "metadata": {},
   "outputs": [
    {
     "name": "stdout",
     "output_type": "stream",
     "text": [
      "              precision    recall  f1-score   support\n",
      "\n",
      "           0       0.77      0.90      0.83       107\n",
      "           1       0.63      0.40      0.49        47\n",
      "\n",
      "    accuracy                           0.75       154\n",
      "   macro avg       0.70      0.65      0.66       154\n",
      "weighted avg       0.73      0.75      0.73       154\n",
      "\n"
     ]
    }
   ],
   "source": [
    "seed = 0\n",
    "xtrain, xtest, ytrain, ytest = train_test_split(x,y, test_size = 0.2, random_state=seed)\n",
    "model = LogisticRegression(C=c,solver='liblinear')\n",
    "model.fit(xtrain,ytrain)\n",
    "predict=model.predict(xtest)\n",
    "repo = classification_report(ytest,predict)\n",
    "print(repo)"
   ]
  },
  {
   "cell_type": "code",
   "execution_count": 22,
   "id": "5fd106b3",
   "metadata": {},
   "outputs": [
    {
     "data": {
      "text/plain": [
       "Text(0.5, 257.44, 'Predicted Label')"
      ]
     },
     "execution_count": 22,
     "metadata": {},
     "output_type": "execute_result"
    },
    {
     "data": {
      "image/png": "[encoded data removed]",
      "text/plain": [
       "<Figure size 432x288 with 2 Axes>"
      ]
     },
     "metadata": {
      "needs_background": "light"
     },
     "output_type": "display_data"
    }
   ],
   "source": [
    "class_n=[0,1]\n",
    "fig,ax= plt.subplots()\n",
    "ticks= np.arange(len(class_n))\n",
    "plt.xticks(ticks,class_n)\n",
    "plt.yticks(ticks,class_n)\n",
    "\n",
    "sns.heatmap(pd.DataFrame(matrix) ,annot=True , cmap=\"YlGnBu\", fmt='g')\n",
    "ax.xaxis.set_label_position(\"top\")\n",
    "plt.tight_layout()\n",
    "plt.title('Confusion Matrix',y=1.1)\n",
    "plt.ylabel('Actual Label')\n",
    "plt.xlabel('Predicted Label')"
   ]
  },
  {
   "cell_type": "markdown",
   "id": "d61e9305",
   "metadata": {},
   "source": [
    "## Problem 2"
   ]
  },
  {
   "cell_type": "code",
   "execution_count": 25,
   "id": "02cd89d1",
   "metadata": {},
   "outputs": [
    {
     "name": "stdout",
     "output_type": "stream",
     "text": [
      "Acuracy:76.425% (3.278%)\n",
      "\n",
      "Acuracy:76.818% (3.744%)\n",
      "\n"
     ]
    }
   ],
   "source": [
    "N=[5,10]\n",
    "for n in N:\n",
    "    kfold = KFold(n_splits=n, random_state=0, shuffle=True)\n",
    "    model= LogisticRegression(solver='liblinear')\n",
    "    result= cross_val_score(model,x,y,cv=kfold)\n",
    "    print('Acuracy:%.3f%% (%.3f%%)'%(result.mean()*100.0, result.std()*100))\n",
    "    print('')"
   ]
  },
  {
   "cell_type": "code",
   "execution_count": 26,
   "id": "9d2e33ae",
   "metadata": {},
   "outputs": [],
   "source": [
    "## Accuracy is higher with validation than without"
   ]
  },
  {
   "cell_type": "markdown",
   "id": "8b4767d5",
   "metadata": {},
   "source": [
    "## Problem 3.a"
   ]
  },
  {
   "cell_type": "code",
   "execution_count": 27,
   "id": "60087f61",
   "metadata": {},
   "outputs": [],
   "source": [
    "from sklearn.datasets import load_breast_cancer \n",
    "Data = load_breast_cancer()\n",
    "x=Data.data\n",
    "y=Data.target"
   ]
  },
  {
   "cell_type": "code",
   "execution_count": 28,
   "id": "1fd477ed",
   "metadata": {},
   "outputs": [
    {
     "data": {
      "text/html": [
       "<div>\n",
       "<style scoped>\n",
       "    .dataframe tbody tr th:only-of-type {\n",
       "        vertical-align: middle;\n",
       "    }\n",
       "\n",
       "    .dataframe tbody tr th {\n",
       "        vertical-align: top;\n",
       "    }\n",
       "\n",
       "    .dataframe thead th {\n",
       "        text-align: right;\n",
       "    }\n",
       "</style>\n",
       "<table border=\"1\" class=\"dataframe\">\n",
       "  <thead>\n",
       "    <tr style=\"text-align: right;\">\n",
       "      <th></th>\n",
       "      <th>0</th>\n",
       "      <th>1</th>\n",
       "      <th>2</th>\n",
       "      <th>3</th>\n",
       "      <th>4</th>\n",
       "      <th>5</th>\n",
       "      <th>6</th>\n",
       "      <th>7</th>\n",
       "      <th>8</th>\n",
       "      <th>9</th>\n",
       "      <th>...</th>\n",
       "      <th>20</th>\n",
       "      <th>21</th>\n",
       "      <th>22</th>\n",
       "      <th>23</th>\n",
       "      <th>24</th>\n",
       "      <th>25</th>\n",
       "      <th>26</th>\n",
       "      <th>27</th>\n",
       "      <th>28</th>\n",
       "      <th>29</th>\n",
       "    </tr>\n",
       "  </thead>\n",
       "  <tbody>\n",
       "    <tr>\n",
       "      <th>0</th>\n",
       "      <td>17.99</td>\n",
       "      <td>10.38</td>\n",
       "      <td>122.80</td>\n",
       "      <td>1001.0</td>\n",
       "      <td>0.11840</td>\n",
       "      <td>0.27760</td>\n",
       "      <td>0.3001</td>\n",
       "      <td>0.14710</td>\n",
       "      <td>0.2419</td>\n",
       "      <td>0.07871</td>\n",
       "      <td>...</td>\n",
       "      <td>25.38</td>\n",
       "      <td>17.33</td>\n",
       "      <td>184.60</td>\n",
       "      <td>2019.0</td>\n",
       "      <td>0.1622</td>\n",
       "      <td>0.6656</td>\n",
       "      <td>0.7119</td>\n",
       "      <td>0.2654</td>\n",
       "      <td>0.4601</td>\n",
       "      <td>0.11890</td>\n",
       "    </tr>\n",
       "    <tr>\n",
       "      <th>1</th>\n",
       "      <td>20.57</td>\n",
       "      <td>17.77</td>\n",
       "      <td>132.90</td>\n",
       "      <td>1326.0</td>\n",
       "      <td>0.08474</td>\n",
       "      <td>0.07864</td>\n",
       "      <td>0.0869</td>\n",
       "      <td>0.07017</td>\n",
       "      <td>0.1812</td>\n",
       "      <td>0.05667</td>\n",
       "      <td>...</td>\n",
       "      <td>24.99</td>\n",
       "      <td>23.41</td>\n",
       "      <td>158.80</td>\n",
       "      <td>1956.0</td>\n",
       "      <td>0.1238</td>\n",
       "      <td>0.1866</td>\n",
       "      <td>0.2416</td>\n",
       "      <td>0.1860</td>\n",
       "      <td>0.2750</td>\n",
       "      <td>0.08902</td>\n",
       "    </tr>\n",
       "    <tr>\n",
       "      <th>2</th>\n",
       "      <td>19.69</td>\n",
       "      <td>21.25</td>\n",
       "      <td>130.00</td>\n",
       "      <td>1203.0</td>\n",
       "      <td>0.10960</td>\n",
       "      <td>0.15990</td>\n",
       "      <td>0.1974</td>\n",
       "      <td>0.12790</td>\n",
       "      <td>0.2069</td>\n",
       "      <td>0.05999</td>\n",
       "      <td>...</td>\n",
       "      <td>23.57</td>\n",
       "      <td>25.53</td>\n",
       "      <td>152.50</td>\n",
       "      <td>1709.0</td>\n",
       "      <td>0.1444</td>\n",
       "      <td>0.4245</td>\n",
       "      <td>0.4504</td>\n",
       "      <td>0.2430</td>\n",
       "      <td>0.3613</td>\n",
       "      <td>0.08758</td>\n",
       "    </tr>\n",
       "    <tr>\n",
       "      <th>3</th>\n",
       "      <td>11.42</td>\n",
       "      <td>20.38</td>\n",
       "      <td>77.58</td>\n",
       "      <td>386.1</td>\n",
       "      <td>0.14250</td>\n",
       "      <td>0.28390</td>\n",
       "      <td>0.2414</td>\n",
       "      <td>0.10520</td>\n",
       "      <td>0.2597</td>\n",
       "      <td>0.09744</td>\n",
       "      <td>...</td>\n",
       "      <td>14.91</td>\n",
       "      <td>26.50</td>\n",
       "      <td>98.87</td>\n",
       "      <td>567.7</td>\n",
       "      <td>0.2098</td>\n",
       "      <td>0.8663</td>\n",
       "      <td>0.6869</td>\n",
       "      <td>0.2575</td>\n",
       "      <td>0.6638</td>\n",
       "      <td>0.17300</td>\n",
       "    </tr>\n",
       "    <tr>\n",
       "      <th>4</th>\n",
       "      <td>20.29</td>\n",
       "      <td>14.34</td>\n",
       "      <td>135.10</td>\n",
       "      <td>1297.0</td>\n",
       "      <td>0.10030</td>\n",
       "      <td>0.13280</td>\n",
       "      <td>0.1980</td>\n",
       "      <td>0.10430</td>\n",
       "      <td>0.1809</td>\n",
       "      <td>0.05883</td>\n",
       "      <td>...</td>\n",
       "      <td>22.54</td>\n",
       "      <td>16.67</td>\n",
       "      <td>152.20</td>\n",
       "      <td>1575.0</td>\n",
       "      <td>0.1374</td>\n",
       "      <td>0.2050</td>\n",
       "      <td>0.4000</td>\n",
       "      <td>0.1625</td>\n",
       "      <td>0.2364</td>\n",
       "      <td>0.07678</td>\n",
       "    </tr>\n",
       "  </tbody>\n",
       "</table>\n",
       "<p>5 rows × 30 columns</p>\n",
       "</div>"
      ],
      "text/plain": [
       "      0      1       2       3        4        5       6        7       8   \\\n",
       "0  17.99  10.38  122.80  1001.0  0.11840  0.27760  0.3001  0.14710  0.2419   \n",
       "1  20.57  17.77  132.90  1326.0  0.08474  0.07864  0.0869  0.07017  0.1812   \n",
       "2  19.69  21.25  130.00  1203.0  0.10960  0.15990  0.1974  0.12790  0.2069   \n",
       "3  11.42  20.38   77.58   386.1  0.14250  0.28390  0.2414  0.10520  0.2597   \n",
       "4  20.29  14.34  135.10  1297.0  0.10030  0.13280  0.1980  0.10430  0.1809   \n",
       "\n",
       "        9   ...     20     21      22      23      24      25      26      27  \\\n",
       "0  0.07871  ...  25.38  17.33  184.60  2019.0  0.1622  0.6656  0.7119  0.2654   \n",
       "1  0.05667  ...  24.99  23.41  158.80  1956.0  0.1238  0.1866  0.2416  0.1860   \n",
       "2  0.05999  ...  23.57  25.53  152.50  1709.0  0.1444  0.4245  0.4504  0.2430   \n",
       "3  0.09744  ...  14.91  26.50   98.87   567.7  0.2098  0.8663  0.6869  0.2575   \n",
       "4  0.05883  ...  22.54  16.67  152.20  1575.0  0.1374  0.2050  0.4000  0.1625   \n",
       "\n",
       "       28       29  \n",
       "0  0.4601  0.11890  \n",
       "1  0.2750  0.08902  \n",
       "2  0.3613  0.08758  \n",
       "3  0.6638  0.17300  \n",
       "4  0.2364  0.07678  \n",
       "\n",
       "[5 rows x 30 columns]"
      ]
     },
     "execution_count": 28,
     "metadata": {},
     "output_type": "execute_result"
    }
   ],
   "source": [
    "x=pd.DataFrame(x)\n",
    "x.head()"
   ]
  },
  {
   "cell_type": "code",
   "execution_count": 29,
   "id": "f90bf495",
   "metadata": {},
   "outputs": [
    {
     "data": {
      "text/html": [
       "<div>\n",
       "<style scoped>\n",
       "    .dataframe tbody tr th:only-of-type {\n",
       "        vertical-align: middle;\n",
       "    }\n",
       "\n",
       "    .dataframe tbody tr th {\n",
       "        vertical-align: top;\n",
       "    }\n",
       "\n",
       "    .dataframe thead th {\n",
       "        text-align: right;\n",
       "    }\n",
       "</style>\n",
       "<table border=\"1\" class=\"dataframe\">\n",
       "  <thead>\n",
       "    <tr style=\"text-align: right;\">\n",
       "      <th></th>\n",
       "      <th>0</th>\n",
       "    </tr>\n",
       "  </thead>\n",
       "  <tbody>\n",
       "    <tr>\n",
       "      <th>0</th>\n",
       "      <td>0</td>\n",
       "    </tr>\n",
       "    <tr>\n",
       "      <th>1</th>\n",
       "      <td>0</td>\n",
       "    </tr>\n",
       "    <tr>\n",
       "      <th>2</th>\n",
       "      <td>0</td>\n",
       "    </tr>\n",
       "    <tr>\n",
       "      <th>3</th>\n",
       "      <td>0</td>\n",
       "    </tr>\n",
       "    <tr>\n",
       "      <th>4</th>\n",
       "      <td>0</td>\n",
       "    </tr>\n",
       "  </tbody>\n",
       "</table>\n",
       "</div>"
      ],
      "text/plain": [
       "   0\n",
       "0  0\n",
       "1  0\n",
       "2  0\n",
       "3  0\n",
       "4  0"
      ]
     },
     "execution_count": 29,
     "metadata": {},
     "output_type": "execute_result"
    }
   ],
   "source": [
    "y=pd.DataFrame(y)\n",
    "y.head()"
   ]
  },
  {
   "cell_type": "code",
   "execution_count": 30,
   "id": "78c56bf4",
   "metadata": {},
   "outputs": [],
   "source": [
    "xtrain, xtest, ytrain, ytest = train_test_split(x,y, test_size = 0.2)"
   ]
  },
  {
   "cell_type": "code",
   "execution_count": 31,
   "id": "6f42cf33",
   "metadata": {},
   "outputs": [
    {
     "data": {
      "text/plain": [
       "(455, 30)"
      ]
     },
     "execution_count": 31,
     "metadata": {},
     "output_type": "execute_result"
    }
   ],
   "source": [
    "xtrain.shape"
   ]
  },
  {
   "cell_type": "code",
   "execution_count": 32,
   "id": "3cbac624",
   "metadata": {},
   "outputs": [],
   "source": [
    "from sklearn.preprocessing import MinMaxScaler, StandardScaler\n",
    "scaler = StandardScaler()\n",
    "xtrain = scaler.fit_transform(xtrain)\n",
    "xtest = scaler.transform(xtest)"
   ]
  },
  {
   "cell_type": "code",
   "execution_count": 33,
   "id": "e9ea7f4a",
   "metadata": {},
   "outputs": [
    {
     "name": "stdout",
     "output_type": "stream",
     "text": [
      "C: 10\n",
      "Training accuracy: 0.9956043956043956\n",
      "Test accuracy: 0.9385964912280702\n",
      "\n",
      "C: 1\n",
      "Training accuracy: 0.9956043956043956\n",
      "Test accuracy: 0.9473684210526315\n",
      "\n",
      "C: 0.1\n",
      "Training accuracy: 0.9868131868131869\n",
      "Test accuracy: 0.9473684210526315\n",
      "\n",
      "C: 0.01\n",
      "Training accuracy: 0.9736263736263736\n",
      "Test accuracy: 0.9473684210526315\n",
      "\n",
      "C: 0.001\n",
      "Training accuracy: 0.9582417582417583\n",
      "Test accuracy: 0.9473684210526315\n",
      "\n"
     ]
    }
   ],
   "source": [
    "C=[10,1,.1,.01,.001]\n",
    "for c in C:\n",
    "    clf = LogisticRegression(C=c, solver ='liblinear')\n",
    "    clf.fit(xtrain, ytrain)\n",
    "    print('C:',c)\n",
    "    print('Training accuracy:', clf.score(xtrain,ytrain))\n",
    "    print('Test accuracy:' , clf.score(xtest,ytest))\n",
    "    print('')"
   ]
  },
  {
   "cell_type": "code",
   "execution_count": 34,
   "id": "c047db34",
   "metadata": {},
   "outputs": [
    {
     "name": "stdout",
     "output_type": "stream",
     "text": [
      "[[42  5]\n",
      " [ 2 65]]\n"
     ]
    }
   ],
   "source": [
    "seed = 0\n",
    "xtrain, xtest, ytrain, ytest = train_test_split(x,y, test_size = 0.2, random_state=seed)\n",
    "model = LogisticRegression(C=c,solver='liblinear')\n",
    "model.fit(xtrain,ytrain)\n",
    "predict=model.predict(xtest)\n",
    "matrix= confusion_matrix(ytest,predict)\n",
    "print(matrix)"
   ]
  },
  {
   "cell_type": "code",
   "execution_count": 35,
   "id": "31b95577",
   "metadata": {},
   "outputs": [
    {
     "name": "stdout",
     "output_type": "stream",
     "text": [
      "              precision    recall  f1-score   support\n",
      "\n",
      "           0       0.95      0.89      0.92        47\n",
      "           1       0.93      0.97      0.95        67\n",
      "\n",
      "    accuracy                           0.94       114\n",
      "   macro avg       0.94      0.93      0.94       114\n",
      "weighted avg       0.94      0.94      0.94       114\n",
      "\n"
     ]
    }
   ],
   "source": [
    "seed = 0\n",
    "xtrain, xtest, ytrain, ytest = train_test_split(x,y, test_size = 0.2, random_state=seed)\n",
    "model = LogisticRegression(C=c,solver='liblinear')\n",
    "model.fit(xtrain,ytrain)\n",
    "predict=model.predict(xtest)\n",
    "repo = classification_report(ytest,predict)\n",
    "print(repo)"
   ]
  },
  {
   "cell_type": "code",
   "execution_count": 36,
   "id": "0ea4b14b",
   "metadata": {},
   "outputs": [
    {
     "data": {
      "text/plain": [
       "Text(0.5, 257.44, 'Predicted Label')"
      ]
     },
     "execution_count": 36,
     "metadata": {},
     "output_type": "execute_result"
    },
    {
     "data": {
      "image/png": "[encoded data removed]",
      "text/plain": [
       "<Figure size 432x288 with 2 Axes>"
      ]
     },
     "metadata": {
      "needs_background": "light"
     },
     "output_type": "display_data"
    }
   ],
   "source": [
    "class_n=[0,1]\n",
    "fig,ax= plt.subplots()\n",
    "ticks= np.arange(len(class_n))\n",
    "plt.xticks(ticks,class_n)\n",
    "plt.yticks(ticks,class_n)\n",
    "\n",
    "sns.heatmap(pd.DataFrame(matrix) ,annot=True , cmap=\"YlGnBu\", fmt='g')\n",
    "ax.xaxis.set_label_position(\"top\")\n",
    "plt.tight_layout()\n",
    "plt.title('Confusion Matrix',y=1.1)\n",
    "plt.ylabel('Actual Label')\n",
    "plt.xlabel('Predicted Label')"
   ]
  },
  {
   "cell_type": "markdown",
   "id": "16620d3e",
   "metadata": {},
   "source": [
    "## Problem 3.b"
   ]
  },
  {
   "cell_type": "code",
   "execution_count": 37,
   "id": "c53ea2c5",
   "metadata": {},
   "outputs": [],
   "source": [
    "from sklearn.datasets import load_breast_cancer \n",
    "Data = load_breast_cancer()\n",
    "x=Data.data\n",
    "y=Data.target"
   ]
  },
  {
   "cell_type": "code",
   "execution_count": 52,
   "id": "5ff3e587",
   "metadata": {},
   "outputs": [],
   "source": [
    "x=pd.DataFrame(x)\n",
    "y=pd.DataFrame(y)"
   ]
  },
  {
   "cell_type": "code",
   "execution_count": 53,
   "id": "e9a1c9e7",
   "metadata": {},
   "outputs": [],
   "source": [
    "xtrain, xtest, ytrain, ytest = train_test_split(x,y, test_size = 0.2)"
   ]
  },
  {
   "cell_type": "code",
   "execution_count": 54,
   "id": "dcf4fad1",
   "metadata": {},
   "outputs": [],
   "source": [
    "from sklearn.preprocessing import MinMaxScaler, StandardScaler\n",
    "scaler = StandardScaler()\n",
    "xtrain = scaler.fit_transform(xtrain)\n",
    "xtest = scaler.transform(xtest)"
   ]
  },
  {
   "cell_type": "code",
   "execution_count": 55,
   "id": "9c55dec6",
   "metadata": {},
   "outputs": [
    {
     "name": "stdout",
     "output_type": "stream",
     "text": [
      "C: 10\n",
      "Training accuracy: 0.989010989010989\n",
      "Test accuracy: 0.9649122807017544\n",
      "\n",
      "C: 1\n",
      "Training accuracy: 0.989010989010989\n",
      "Test accuracy: 0.9736842105263158\n",
      "\n",
      "C: 0.1\n",
      "Training accuracy: 0.978021978021978\n",
      "Test accuracy: 0.9912280701754386\n",
      "\n",
      "C: 0.01\n",
      "Training accuracy: 0.9274725274725275\n",
      "Test accuracy: 0.9736842105263158\n",
      "\n",
      "C: 0.001\n",
      "Training accuracy: 0.37362637362637363\n",
      "Test accuracy: 0.3684210526315789\n",
      "\n"
     ]
    }
   ],
   "source": [
    "C=[10,1,.1,.01,.001]\n",
    "for c in C:\n",
    "    clf = LogisticRegression(penalty='l1',C=c, solver ='liblinear')\n",
    "    clf.fit(xtrain, ytrain)\n",
    "    print('C:',c)\n",
    "    print('Training accuracy:', clf.score(xtrain,ytrain))\n",
    "    print('Test accuracy:' , clf.score(xtest,ytest))\n",
    "    print('')"
   ]
  },
  {
   "cell_type": "code",
   "execution_count": 56,
   "id": "5864dc34",
   "metadata": {},
   "outputs": [
    {
     "name": "stdout",
     "output_type": "stream",
     "text": [
      "              precision    recall  f1-score   support\n",
      "\n",
      "           0       1.00      0.79      0.88        47\n",
      "           1       0.87      1.00      0.93        67\n",
      "\n",
      "    accuracy                           0.91       114\n",
      "   macro avg       0.94      0.89      0.91       114\n",
      "weighted avg       0.92      0.91      0.91       114\n",
      "\n"
     ]
    }
   ],
   "source": [
    "seed = 0\n",
    "xtrain, xtest, ytrain, ytest = train_test_split(x,y, test_size = 0.2, random_state=seed)\n",
    "model = LogisticRegression(penalty='l1',C=c, solver='liblinear')\n",
    "model.fit(xtrain,ytrain)\n",
    "predict=model.predict(xtest)\n",
    "repo = classification_report(ytest,predict)\n",
    "print(repo)"
   ]
  },
  {
   "cell_type": "code",
   "execution_count": 57,
   "id": "de47e9f1",
   "metadata": {},
   "outputs": [
    {
     "data": {
      "text/plain": [
       "Text(0.5, 257.44, 'Predicted Label')"
      ]
     },
     "execution_count": 57,
     "metadata": {},
     "output_type": "execute_result"
    },
    {
     "data": {
      "image/png": "[encoded data removed]",
      "text/plain": [
       "<Figure size 432x288 with 2 Axes>"
      ]
     },
     "metadata": {
      "needs_background": "light"
     },
     "output_type": "display_data"
    }
   ],
   "source": [
    "class_n=[0,1]\n",
    "fig,ax= plt.subplots()\n",
    "ticks= np.arange(len(class_n))\n",
    "plt.xticks(ticks,class_n)\n",
    "plt.yticks(ticks,class_n)\n",
    "\n",
    "sns.heatmap(pd.DataFrame(matrix) ,annot=True , cmap=\"YlGnBu\", fmt='g')\n",
    "ax.xaxis.set_label_position(\"top\")\n",
    "plt.tight_layout()\n",
    "plt.title('Confusion Matrix',y=1.1)\n",
    "plt.ylabel('Actual Label')\n",
    "plt.xlabel('Predicted Label')"
   ]
  },
  {
   "cell_type": "code",
   "execution_count": 58,
   "id": "03801a99",
   "metadata": {},
   "outputs": [],
   "source": [
    "# the weight penalty gave fewer FN but higher FP "
   ]
  },
  {
   "cell_type": "markdown",
   "id": "31ef9834",
   "metadata": {},
   "source": [
    "## Problem 4.a"
   ]
  },
  {
   "cell_type": "code",
   "execution_count": null,
   "id": "7ccb000d",
   "metadata": {},
   "outputs": [],
   "source": [
    "## validation without penalties"
   ]
  },
  {
   "cell_type": "code",
   "execution_count": 59,
   "id": "9489b939",
   "metadata": {},
   "outputs": [
    {
     "name": "stdout",
     "output_type": "stream",
     "text": [
      "Acuracy:95.434% (2.737%)\n",
      "\n",
      "Acuracy:95.254% (3.849%)\n",
      "\n"
     ]
    }
   ],
   "source": [
    "N=[5,10]\n",
    "for n in N:\n",
    "    kfold = KFold(n_splits=n, random_state=0, shuffle=True)\n",
    "    model= LogisticRegression(solver='liblinear')\n",
    "    result= cross_val_score(model,x,y,cv=kfold)\n",
    "    print('Acuracy:%.3f%% (%.3f%%)'%(result.mean()*100.0, result.std()*100))\n",
    "    print('')"
   ]
  },
  {
   "cell_type": "markdown",
   "id": "08246f66",
   "metadata": {},
   "source": [
    "## Problem 4.b"
   ]
  },
  {
   "cell_type": "code",
   "execution_count": null,
   "id": "32096fab",
   "metadata": {},
   "outputs": [],
   "source": [
    "## validation with penalties"
   ]
  },
  {
   "cell_type": "code",
   "execution_count": 60,
   "id": "49867dd3",
   "metadata": {},
   "outputs": [
    {
     "name": "stdout",
     "output_type": "stream",
     "text": [
      "Acuracy:95.609% (2.658%)\n",
      "\n",
      "Acuracy:95.078% (3.664%)\n",
      "\n"
     ]
    }
   ],
   "source": [
    "N=[5,10]\n",
    "for n in N:\n",
    "    kfold = KFold(n_splits=n, random_state=0, shuffle=True)\n",
    "    model= LogisticRegression(penalty='l1',solver='liblinear')\n",
    "    result= cross_val_score(model,x,y,cv=kfold)\n",
    "    print('Acuracy:%.3f%% (%.3f%%)'%(result.mean()*100.0, result.std()*100))\n",
    "    print('')"
   ]
  },
  {
   "cell_type": "code",
   "execution_count": null,
   "id": "f95ef7d7",
   "metadata": {},
   "outputs": [],
   "source": [
    "#less accurate than with just validation"
   ]
  }
 ],
 "metadata": {
  "kernelspec": {
   "display_name": "Python 3 (ipykernel)",
   "language": "python",
   "name": "python3"
  },
  "language_info": {
   "codemirror_mode": {
    "name": "ipython",
    "version": 3
   },
   "file_extension": ".py",
   "mimetype": "text/x-python",
   "name": "python",
   "nbconvert_exporter": "python",
   "pygments_lexer": "ipython3",
   "version": "3.9.12"
  }
 },
 "nbformat": 4,
 "nbformat_minor": 5
}
